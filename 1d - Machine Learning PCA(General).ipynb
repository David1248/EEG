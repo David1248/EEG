{
 "cells": [
  {
   "cell_type": "markdown",
   "metadata": {},
   "source": [
    "# MACHINE LEARNING _ SVM\n",
    "## Using Principal Component Analysis\n",
    "### Using (x-mean)/std normalization"
   ]
  },
  {
   "cell_type": "code",
   "execution_count": 41,
   "metadata": {},
   "outputs": [],
   "source": [
    "import numpy as np\n",
    "import matplotlib.pyplot as plt\n",
    "import pandas as pd\n",
    "import h5py\n",
    "from sklearn.model_selection import train_test_split\n",
    "from sklearn.utils import shuffle\n",
    "from sklearn import preprocessing, neighbors, naive_bayes, tree, svm, linear_model, discriminant_analysis\n",
    "from sklearn.ensemble import RandomForestClassifier\n",
    "from sklearn.metrics import confusion_matrix, classification_report\n",
    "from sklearn.decomposition import PCA\n",
    "import pickle\n",
    "#from xgboost import XGBRegressor"
   ]
  },
  {
   "cell_type": "code",
   "execution_count": 42,
   "metadata": {},
   "outputs": [],
   "source": [
    "# Reading the csv dataset\n",
    "eeg_raw = pd.read_csv(r'Dataset/one_to_five.csv')\n",
    "\n",
    "# dropping 'y' & 'Unnamed: 180' columns\n",
    "eeg_raw_drop_out = eeg_raw.drop(['y','Unnamed: 180' ], axis = 1)\n",
    "\n",
    "# dropping 'Unnamed: 0' column\n",
    "eeg_raw_drop_io = eeg_raw_drop_out.drop(['Unnamed: 0'], axis = 1)"
   ]
  },
  {
   "cell_type": "code",
   "execution_count": 43,
   "metadata": {},
   "outputs": [],
   "source": [
    "# Normalization\n",
    "mean = np.mean(eeg_raw_drop_io, axis = 0)\n",
    "std = np.std(eeg_raw_drop_io, axis = 0)\n",
    "norm_input = (eeg_raw_drop_io - mean)/std"
   ]
  },
  {
   "cell_type": "code",
   "execution_count": 44,
   "metadata": {},
   "outputs": [
    {
     "data": {
      "text/html": [
       "<div>\n",
       "<style scoped>\n",
       "    .dataframe tbody tr th:only-of-type {\n",
       "        vertical-align: middle;\n",
       "    }\n",
       "\n",
       "    .dataframe tbody tr th {\n",
       "        vertical-align: top;\n",
       "    }\n",
       "\n",
       "    .dataframe thead th {\n",
       "        text-align: right;\n",
       "    }\n",
       "</style>\n",
       "<table border=\"1\" class=\"dataframe\">\n",
       "  <thead>\n",
       "    <tr style=\"text-align: right;\">\n",
       "      <th></th>\n",
       "      <th>1</th>\n",
       "      <th>2</th>\n",
       "      <th>3</th>\n",
       "      <th>4</th>\n",
       "      <th>5</th>\n",
       "    </tr>\n",
       "  </thead>\n",
       "  <tbody>\n",
       "    <tr>\n",
       "      <th>0</th>\n",
       "      <td>0</td>\n",
       "      <td>0</td>\n",
       "      <td>0</td>\n",
       "      <td>1</td>\n",
       "      <td>0</td>\n",
       "    </tr>\n",
       "    <tr>\n",
       "      <th>1</th>\n",
       "      <td>1</td>\n",
       "      <td>0</td>\n",
       "      <td>0</td>\n",
       "      <td>0</td>\n",
       "      <td>0</td>\n",
       "    </tr>\n",
       "    <tr>\n",
       "      <th>2</th>\n",
       "      <td>0</td>\n",
       "      <td>0</td>\n",
       "      <td>0</td>\n",
       "      <td>0</td>\n",
       "      <td>1</td>\n",
       "    </tr>\n",
       "    <tr>\n",
       "      <th>3</th>\n",
       "      <td>0</td>\n",
       "      <td>0</td>\n",
       "      <td>0</td>\n",
       "      <td>0</td>\n",
       "      <td>1</td>\n",
       "    </tr>\n",
       "    <tr>\n",
       "      <th>4</th>\n",
       "      <td>0</td>\n",
       "      <td>0</td>\n",
       "      <td>0</td>\n",
       "      <td>0</td>\n",
       "      <td>1</td>\n",
       "    </tr>\n",
       "    <tr>\n",
       "      <th>...</th>\n",
       "      <td>...</td>\n",
       "      <td>...</td>\n",
       "      <td>...</td>\n",
       "      <td>...</td>\n",
       "      <td>...</td>\n",
       "    </tr>\n",
       "    <tr>\n",
       "      <th>11495</th>\n",
       "      <td>0</td>\n",
       "      <td>1</td>\n",
       "      <td>0</td>\n",
       "      <td>0</td>\n",
       "      <td>0</td>\n",
       "    </tr>\n",
       "    <tr>\n",
       "      <th>11496</th>\n",
       "      <td>1</td>\n",
       "      <td>0</td>\n",
       "      <td>0</td>\n",
       "      <td>0</td>\n",
       "      <td>0</td>\n",
       "    </tr>\n",
       "    <tr>\n",
       "      <th>11497</th>\n",
       "      <td>0</td>\n",
       "      <td>0</td>\n",
       "      <td>0</td>\n",
       "      <td>0</td>\n",
       "      <td>1</td>\n",
       "    </tr>\n",
       "    <tr>\n",
       "      <th>11498</th>\n",
       "      <td>0</td>\n",
       "      <td>0</td>\n",
       "      <td>1</td>\n",
       "      <td>0</td>\n",
       "      <td>0</td>\n",
       "    </tr>\n",
       "    <tr>\n",
       "      <th>11499</th>\n",
       "      <td>0</td>\n",
       "      <td>0</td>\n",
       "      <td>0</td>\n",
       "      <td>1</td>\n",
       "      <td>0</td>\n",
       "    </tr>\n",
       "  </tbody>\n",
       "</table>\n",
       "<p>11500 rows × 5 columns</p>\n",
       "</div>"
      ],
      "text/plain": [
       "       1  2  3  4  5\n",
       "0      0  0  0  1  0\n",
       "1      1  0  0  0  0\n",
       "2      0  0  0  0  1\n",
       "3      0  0  0  0  1\n",
       "4      0  0  0  0  1\n",
       "...   .. .. .. .. ..\n",
       "11495  0  1  0  0  0\n",
       "11496  1  0  0  0  0\n",
       "11497  0  0  0  0  1\n",
       "11498  0  0  1  0  0\n",
       "11499  0  0  0  1  0\n",
       "\n",
       "[11500 rows x 5 columns]"
      ]
     },
     "execution_count": 44,
     "metadata": {},
     "output_type": "execute_result"
    }
   ],
   "source": [
    "# Preparing Output\n",
    "\n",
    "# classes = ['Recording of seizure activites','Healthy Patient EEG from Tumour region','Healthy Patient EEG from Healthy region','Healthy Patient EEG with Eyes Close','Healthy Patient EEG with Eyes Open']\n",
    "raw_y = eeg_raw['y']\n",
    "targ = pd.DataFrame(list(zip(raw_y)),columns=['one_hot_y'])\n",
    "# Converting classes into one_hot encoded\n",
    "target = pd.get_dummies(targ.one_hot_y)\n",
    "# previewing the one_hot encoded result\n",
    "target"
   ]
  },
  {
   "cell_type": "code",
   "execution_count": 45,
   "metadata": {},
   "outputs": [],
   "source": [
    "# converting input and target into array\n",
    "norm_input_array = np.array(norm_input)\n",
    "target_array = np.array(target)\n",
    "raw_y_array = np.array(raw_y)"
   ]
  },
  {
   "cell_type": "code",
   "execution_count": 46,
   "metadata": {},
   "outputs": [
    {
     "name": "stdout",
     "output_type": "stream",
     "text": [
      "Input Shape:  (11500, 178)\n",
      "Output Shape:  (11500, 5)\n",
      "Output Shape_Y:  (11500,)\n",
      "Input Datatype:  float64\n",
      "Output Datatype:  uint8\n",
      "Output Datatype:  int64\n"
     ]
    }
   ],
   "source": [
    "print(\"Input Shape: \", norm_input_array.shape)\n",
    "print(\"Output Shape: \", target_array.shape)\n",
    "print(\"Output Shape_Y: \", raw_y_array.shape)\n",
    "print(\"Input Datatype: \", norm_input_array.dtype)\n",
    "print(\"Output Datatype: \", target_array.dtype)\n",
    "print(\"Output Datatype: \", raw_y_array.dtype)"
   ]
  },
  {
   "cell_type": "code",
   "execution_count": 47,
   "metadata": {},
   "outputs": [],
   "source": [
    "# Shuffle the dataset\n",
    "x, y, ry = shuffle(norm_input_array, target_array, raw_y_array)\n",
    "\n",
    "# Splitting x and y, X = 60%, Y = 60%\n",
    "X_train, x_test = train_test_split(x, test_size = 0.4, shuffle = False)\n",
    "Y_train, y_test = train_test_split(y, test_size = 0.4, shuffle = False)\n",
    "RY_train, ry_test = train_test_split(ry, test_size = 0.4, shuffle = False)\n",
    "\n",
    "# Splitting X_test and Y_test into 20% of the overall dataset  \n",
    "X_cv, X_test = train_test_split(x_test, test_size = 0.5, shuffle = False)\n",
    "Y_cv, Y_test = train_test_split(y_test, test_size = 0.5, shuffle = False)\n",
    "RY_cv, RY_test = train_test_split(ry_test, test_size = 0.5, shuffle = False)"
   ]
  },
  {
   "cell_type": "code",
   "execution_count": 48,
   "metadata": {},
   "outputs": [
    {
     "name": "stdout",
     "output_type": "stream",
     "text": [
      "X_train shape:  (6900, 178)\n",
      "Y_train shape:  (6900, 5)\n",
      "Raw_Y_train shape:  (6900,)\n",
      "X_cv shape:  (2300, 178)\n",
      "Y_cv shape:  (2300, 5)\n",
      "Raw_Y_cv shape:  (2300,)\n",
      "X_test shape:  (2300, 178)\n",
      "Y_test shape:  (2300, 5)\n",
      "Raw_Y_test shape:  (2300,)\n"
     ]
    }
   ],
   "source": [
    "print(\"X_train shape: \", X_train.shape)\n",
    "print(\"Y_train shape: \", Y_train.shape)\n",
    "print(\"Raw_Y_train shape: \", RY_train.shape)\n",
    "print(\"X_cv shape: \", X_cv.shape)\n",
    "print(\"Y_cv shape: \", Y_cv.shape)\n",
    "print(\"Raw_Y_cv shape: \", RY_cv.shape)\n",
    "print(\"X_test shape: \", X_test.shape)\n",
    "print(\"Y_test shape: \", Y_test.shape)\n",
    "print(\"Raw_Y_test shape: \", RY_test.shape)"
   ]
  },
  {
   "cell_type": "code",
   "execution_count": 49,
   "metadata": {},
   "outputs": [],
   "source": [
    "# Logistics Regression\n",
    "lr = linear_model.LogisticRegression(multi_class = 'auto', solver='liblinear')\n",
    "# K Nearest Neighbor\n",
    "KNN = neighbors.KNeighborsClassifier(n_neighbors=178)\n",
    "# Support Vector Machine (SVM) Guassian Kernel\n",
    "SVC = svm.SVC(kernel='rbf')\n",
    "# Support Vector Machine (SVM) Polynomial\n",
    "SVC2 = svm.SVC(kernel='poly', degree = 2)\n",
    "# Decision Tree\n",
    "Tree = tree.DecisionTreeClassifier()\n",
    "# Random Forest Tree\n",
    "RF = RandomForestClassifier(max_depth=10, random_state=0)\n",
    "# Naive Bayes\n",
    "NB = naive_bayes.GaussianNB()\n",
    "# Discriminant Analysis\n",
    "DA = discriminant_analysis.LinearDiscriminantAnalysis()"
   ]
  },
  {
   "cell_type": "code",
   "execution_count": 50,
   "metadata": {},
   "outputs": [],
   "source": [
    "# Initialize PCA\n",
    "pca = PCA(n_components = 100)\n",
    "X_train_pca = pca.fit_transform(X_train)\n",
    "X_test_pca = pca.transform(X_test)\n",
    "X_cv_pca = pca.transform(X_cv)"
   ]
  },
  {
   "cell_type": "code",
   "execution_count": 51,
   "metadata": {},
   "outputs": [
    {
     "data": {
      "text/plain": [
       "LinearDiscriminantAnalysis()"
      ]
     },
     "execution_count": 51,
     "metadata": {},
     "output_type": "execute_result"
    }
   ],
   "source": [
    "#Fitting the Model\n",
    "lr.fit(X_train_pca, RY_train)\n",
    "KNN.fit(X_train_pca, RY_train)\n",
    "SVC.fit(X_train_pca, RY_train)\n",
    "SVC2.fit(X_train_pca, RY_train)\n",
    "Tree.fit(X_train_pca, RY_train)\n",
    "RF.fit(X_train_pca, RY_train)\n",
    "NB.fit(X_train_pca, RY_train)\n",
    "DA.fit(X_train_pca, RY_train)"
   ]
  },
  {
   "cell_type": "code",
   "execution_count": 52,
   "metadata": {},
   "outputs": [],
   "source": [
    "# Testing the Model\n",
    "#lr_acc = lr.score(X_cv_pca, Y_cv)\n",
    "KNN_acc = KNN.score(X_cv_pca, RY_cv)\n",
    "SVC_acc = SVC.score(X_cv_pca, RY_cv)\n",
    "SVC2_acc = SVC2.score(X_cv_pca, RY_cv)\n",
    "Tree_acc = Tree.score(X_cv_pca, RY_cv)\n",
    "RF_acc = RF.score(X_cv_pca, RY_cv)\n",
    "NB_acc = NB.score(X_cv_pca, RY_cv)\n",
    "DA_acc = DA.score(X_cv_pca, RY_cv)"
   ]
  },
  {
   "cell_type": "code",
   "execution_count": 53,
   "metadata": {},
   "outputs": [
    {
     "name": "stdout",
     "output_type": "stream",
     "text": [
      "K Nearest Neighbour Accuracy:  0.27260869565217394\n",
      "Support Vector Accuracy:  0.5417391304347826\n",
      "Support Vector (Polynomial) Accuracy:  0.47739130434782606\n",
      "Decision Tree Accuracy:  0.5413043478260869\n",
      "Random Forest Accuracy:  0.6647826086956522\n",
      "Naive Bayes Accuracy:  0.5947826086956521\n",
      "Discriminant Analysis Accuracy:  0.25608695652173913\n"
     ]
    }
   ],
   "source": [
    "# Printing Accuracy\n",
    "#print(\"Logisitics Regression Accuracy: \", lr_acc)\n",
    "print(\"K Nearest Neighbour Accuracy: \", KNN_acc)\n",
    "print(\"Support Vector Accuracy: \", SVC_acc)\n",
    "print(\"Support Vector (Polynomial) Accuracy: \", SVC2_acc)\n",
    "print(\"Decision Tree Accuracy: \", Tree_acc)\n",
    "print(\"Random Forest Accuracy: \", RF_acc)\n",
    "print(\"Naive Bayes Accuracy: \", NB_acc)\n",
    "print(\"Discriminant Analysis Accuracy: \", DA_acc)"
   ]
  },
  {
   "cell_type": "code",
   "execution_count": 54,
   "metadata": {},
   "outputs": [],
   "source": [
    "# Prediction\n",
    "lr_y_pred = lr.predict(X_test_pca)\n",
    "KNN_y_pred = KNN.predict(X_test_pca)\n",
    "SVC_y_pred = SVC.predict(X_test_pca)\n",
    "SVC2_y_pred = SVC2.predict(X_test_pca)\n",
    "Tree_y_pred = Tree.predict(X_test_pca)\n",
    "RF_y_pred = RF.predict(X_test_pca)\n",
    "NB_y_pred = NB.predict(X_test_pca)\n",
    "DA_y_pred = DA.predict(X_test_pca)\n"
   ]
  },
  {
   "cell_type": "code",
   "execution_count": 55,
   "metadata": {},
   "outputs": [],
   "source": [
    "#print(confusion_matrix(RY_test, lr_y_pred))\n",
    "#print(confusion_matrix(RY_test, lr_y_pred, normalize = 'true'))\n",
    "#print(classification_report(RY_test, lr_y_pred))"
   ]
  },
  {
   "cell_type": "code",
   "execution_count": 56,
   "metadata": {},
   "outputs": [
    {
     "name": "stdout",
     "output_type": "stream",
     "text": [
      "[[ 80  94 181 110  26]\n",
      " [  0 197 238   2  10]\n",
      " [  0 134 274   0  26]\n",
      " [  0 106 174  30 122]\n",
      " [  0 189 269   1  37]]\n",
      "[[0.16293279 0.19144603 0.36863544 0.22403259 0.05295316]\n",
      " [0.         0.44071588 0.53243848 0.00447427 0.02237136]\n",
      " [0.         0.30875576 0.63133641 0.         0.05990783]\n",
      " [0.         0.24537037 0.40277778 0.06944444 0.28240741]\n",
      " [0.         0.38104839 0.54233871 0.00201613 0.07459677]]\n",
      "              precision    recall  f1-score   support\n",
      "\n",
      "           1       1.00      0.16      0.28       491\n",
      "           2       0.27      0.44      0.34       447\n",
      "           3       0.24      0.63      0.35       434\n",
      "           4       0.21      0.07      0.10       432\n",
      "           5       0.17      0.07      0.10       496\n",
      "\n",
      "    accuracy                           0.27      2300\n",
      "   macro avg       0.38      0.28      0.23      2300\n",
      "weighted avg       0.39      0.27      0.23      2300\n",
      "\n"
     ]
    }
   ],
   "source": [
    "print(confusion_matrix(RY_test, KNN_y_pred))\n",
    "print(confusion_matrix(RY_test, KNN_y_pred, normalize = 'true'))\n",
    "print(classification_report(RY_test, KNN_y_pred))"
   ]
  },
  {
   "cell_type": "code",
   "execution_count": 57,
   "metadata": {},
   "outputs": [
    {
     "name": "stdout",
     "output_type": "stream",
     "text": [
      "[[446  33   5   7   0]\n",
      " [ 23  80  95   6 243]\n",
      " [  1  53 125  14 241]\n",
      " [  0  31  39 215 147]\n",
      " [  0  10  45  30 411]]\n",
      "[[0.90835031 0.06720978 0.0101833  0.01425662 0.        ]\n",
      " [0.05145414 0.17897092 0.21252796 0.01342282 0.54362416]\n",
      " [0.00230415 0.12211982 0.28801843 0.03225806 0.55529954]\n",
      " [0.         0.07175926 0.09027778 0.49768519 0.34027778]\n",
      " [0.         0.02016129 0.09072581 0.06048387 0.82862903]]\n",
      "              precision    recall  f1-score   support\n",
      "\n",
      "           1       0.95      0.91      0.93       491\n",
      "           2       0.39      0.18      0.24       447\n",
      "           3       0.40      0.29      0.34       434\n",
      "           4       0.79      0.50      0.61       432\n",
      "           5       0.39      0.83      0.53       496\n",
      "\n",
      "    accuracy                           0.56      2300\n",
      "   macro avg       0.58      0.54      0.53      2300\n",
      "weighted avg       0.59      0.56      0.54      2300\n",
      "\n"
     ]
    }
   ],
   "source": [
    "print(confusion_matrix(RY_test, SVC_y_pred))\n",
    "print(confusion_matrix(RY_test, SVC_y_pred, normalize = 'true'))\n",
    "print(classification_report(RY_test, SVC_y_pred))"
   ]
  },
  {
   "cell_type": "code",
   "execution_count": 58,
   "metadata": {},
   "outputs": [
    {
     "name": "stdout",
     "output_type": "stream",
     "text": [
      "[[417  24  34   9   7]\n",
      " [ 12  18 102  11 304]\n",
      " [  0   3 107  14 310]\n",
      " [  0   0   7 145 280]\n",
      " [  0   0  12  38 446]]\n",
      "[[0.84928717 0.04887984 0.06924644 0.01832994 0.01425662]\n",
      " [0.02684564 0.04026846 0.22818792 0.0246085  0.68008949]\n",
      " [0.         0.00691244 0.24654378 0.03225806 0.71428571]\n",
      " [0.         0.         0.0162037  0.33564815 0.64814815]\n",
      " [0.         0.         0.02419355 0.0766129  0.89919355]]\n",
      "              precision    recall  f1-score   support\n",
      "\n",
      "           1       0.97      0.85      0.91       491\n",
      "           2       0.40      0.04      0.07       447\n",
      "           3       0.41      0.25      0.31       434\n",
      "           4       0.67      0.34      0.45       432\n",
      "           5       0.33      0.90      0.48       496\n",
      "\n",
      "    accuracy                           0.49      2300\n",
      "   macro avg       0.56      0.47      0.44      2300\n",
      "weighted avg       0.56      0.49      0.45      2300\n",
      "\n"
     ]
    }
   ],
   "source": [
    "print(confusion_matrix(RY_test, SVC2_y_pred))\n",
    "print(confusion_matrix(RY_test, SVC2_y_pred, normalize = 'true'))\n",
    "print(classification_report(RY_test, SVC2_y_pred))"
   ]
  },
  {
   "cell_type": "code",
   "execution_count": 59,
   "metadata": {},
   "outputs": [
    {
     "name": "stdout",
     "output_type": "stream",
     "text": [
      "[[365  49  28  32  17]\n",
      " [ 17 192 158  37  43]\n",
      " [  9 169 183  29  44]\n",
      " [ 16  24  26 282  84]\n",
      " [  4  63  54 111 264]]\n",
      "[[0.74338086 0.09979633 0.05702648 0.06517312 0.03462322]\n",
      " [0.03803132 0.4295302  0.35346756 0.08277405 0.09619687]\n",
      " [0.02073733 0.38940092 0.42165899 0.06682028 0.10138249]\n",
      " [0.03703704 0.05555556 0.06018519 0.65277778 0.19444444]\n",
      " [0.00806452 0.12701613 0.10887097 0.22379032 0.53225806]]\n",
      "              precision    recall  f1-score   support\n",
      "\n",
      "           1       0.89      0.74      0.81       491\n",
      "           2       0.39      0.43      0.41       447\n",
      "           3       0.41      0.42      0.41       434\n",
      "           4       0.57      0.65      0.61       432\n",
      "           5       0.58      0.53      0.56       496\n",
      "\n",
      "    accuracy                           0.56      2300\n",
      "   macro avg       0.57      0.56      0.56      2300\n",
      "weighted avg       0.58      0.56      0.56      2300\n",
      "\n"
     ]
    }
   ],
   "source": [
    "print(confusion_matrix(RY_test, Tree_y_pred))\n",
    "print(confusion_matrix(RY_test, Tree_y_pred, normalize = 'true'))\n",
    "print(classification_report(RY_test, Tree_y_pred))"
   ]
  },
  {
   "cell_type": "code",
   "execution_count": 60,
   "metadata": {},
   "outputs": [
    {
     "name": "stdout",
     "output_type": "stream",
     "text": [
      "[[475   1   1  10   4]\n",
      " [ 28  31 296  29  63]\n",
      " [  7  16 314  31  66]\n",
      " [  3   0   1 355  73]\n",
      " [  0   0  28  88 380]]\n",
      "[[0.96741344 0.00203666 0.00203666 0.0203666  0.00814664]\n",
      " [0.06263982 0.06935123 0.66219239 0.06487696 0.1409396 ]\n",
      " [0.01612903 0.03686636 0.7235023  0.07142857 0.15207373]\n",
      " [0.00694444 0.         0.00231481 0.82175926 0.16898148]\n",
      " [0.         0.         0.05645161 0.17741935 0.76612903]]\n",
      "              precision    recall  f1-score   support\n",
      "\n",
      "           1       0.93      0.97      0.95       491\n",
      "           2       0.65      0.07      0.13       447\n",
      "           3       0.49      0.72      0.58       434\n",
      "           4       0.69      0.82      0.75       432\n",
      "           5       0.65      0.77      0.70       496\n",
      "\n",
      "    accuracy                           0.68      2300\n",
      "   macro avg       0.68      0.67      0.62      2300\n",
      "weighted avg       0.69      0.68      0.63      2300\n",
      "\n"
     ]
    }
   ],
   "source": [
    "print(confusion_matrix(RY_test, RF_y_pred))\n",
    "print(confusion_matrix(RY_test, RF_y_pred, normalize = 'true'))\n",
    "print(classification_report(RY_test, RF_y_pred))"
   ]
  },
  {
   "cell_type": "code",
   "execution_count": 61,
   "metadata": {},
   "outputs": [
    {
     "name": "stdout",
     "output_type": "stream",
     "text": [
      "[[419  36   1  35   0]\n",
      " [ 12  87 321  16  11]\n",
      " [  4  32 345  41  12]\n",
      " [  6  29  23 294  80]\n",
      " [  2  13 151  52 278]]\n",
      "[[0.85336049 0.07331976 0.00203666 0.0712831  0.        ]\n",
      " [0.02684564 0.19463087 0.71812081 0.03579418 0.0246085 ]\n",
      " [0.00921659 0.07373272 0.79493088 0.09447005 0.02764977]\n",
      " [0.01388889 0.06712963 0.05324074 0.68055556 0.18518519]\n",
      " [0.00403226 0.02620968 0.30443548 0.10483871 0.56048387]]\n",
      "              precision    recall  f1-score   support\n",
      "\n",
      "           1       0.95      0.85      0.90       491\n",
      "           2       0.44      0.19      0.27       447\n",
      "           3       0.41      0.79      0.54       434\n",
      "           4       0.67      0.68      0.68       432\n",
      "           5       0.73      0.56      0.63       496\n",
      "\n",
      "    accuracy                           0.62      2300\n",
      "   macro avg       0.64      0.62      0.60      2300\n",
      "weighted avg       0.65      0.62      0.61      2300\n",
      "\n"
     ]
    }
   ],
   "source": [
    "print(confusion_matrix(RY_test, NB_y_pred))\n",
    "print(confusion_matrix(RY_test, NB_y_pred, normalize = 'true'))\n",
    "print(classification_report(RY_test, NB_y_pred))"
   ]
  },
  {
   "cell_type": "code",
   "execution_count": 62,
   "metadata": {},
   "outputs": [
    {
     "name": "stdout",
     "output_type": "stream",
     "text": [
      "[[179  74  62 125  51]\n",
      " [ 29  79 145 151  43]\n",
      " [ 17  81 143 157  36]\n",
      " [ 54  67  84 184  43]\n",
      " [ 46 119 133 148  50]]\n",
      "[[0.36456212 0.15071283 0.12627291 0.25458248 0.10386965]\n",
      " [0.06487696 0.17673378 0.32438479 0.33780761 0.09619687]\n",
      " [0.03917051 0.18663594 0.32949309 0.36175115 0.08294931]\n",
      " [0.125      0.15509259 0.19444444 0.42592593 0.09953704]\n",
      " [0.09274194 0.23991935 0.26814516 0.2983871  0.10080645]]\n",
      "              precision    recall  f1-score   support\n",
      "\n",
      "           1       0.55      0.36      0.44       491\n",
      "           2       0.19      0.18      0.18       447\n",
      "           3       0.25      0.33      0.29       434\n",
      "           4       0.24      0.43      0.31       432\n",
      "           5       0.22      0.10      0.14       496\n",
      "\n",
      "    accuracy                           0.28      2300\n",
      "   macro avg       0.29      0.28      0.27      2300\n",
      "weighted avg       0.30      0.28      0.27      2300\n",
      "\n"
     ]
    }
   ],
   "source": [
    "print(confusion_matrix(RY_test, DA_y_pred))\n",
    "print(confusion_matrix(RY_test, DA_y_pred, normalize = 'true'))\n",
    "print(classification_report(RY_test, DA_y_pred))"
   ]
  },
  {
   "cell_type": "code",
   "execution_count": 63,
   "metadata": {},
   "outputs": [],
   "source": [
    "#Saving Model\n",
    "#pickle.dump(lr, open('1d_ML_lr.sav', 'wb'))\n",
    "pickle.dump(KNN, open('1d_ML_KNN.sav', 'wb'))\n",
    "pickle.dump(SVC, open('1d_ML_SVC.sav', 'wb'))\n",
    "pickle.dump(SVC2, open('1d_ML_SVC2.sav', 'wb'))\n",
    "pickle.dump(Tree, open('1d_ML_Tree.sav', 'wb'))\n",
    "pickle.dump(RF, open('1d_ML_RF.sav', 'wb'))\n",
    "pickle.dump(NB, open('1d_ML_NB.sav', 'wb'))\n",
    "pickle.dump(DA, open('1d_ML_DA.sav', 'wb'))"
   ]
  },
  {
   "cell_type": "code",
   "execution_count": 66,
   "metadata": {},
   "outputs": [],
   "source": [
    "#loading model\n",
    "'''#lr = pickle.load(open('1d_ML_lr.sav', 'rb'))\n",
    "KNN = pickle.load(open('1d_ML_KNN.sav', 'rb'))\n",
    "SVC = pickle.load(open('1d_ML_SVC.sav', 'rb'))\n",
    "SVC2 = pickle.load(open('1d_ML_SVC2.sav', 'rb'))\n",
    "Tree = pickle.load(open('1d_ML_Tree.sav', 'rb'))\n",
    "RF = pickle.load(open('1d_ML_RF.sav', 'rb'))\n",
    "NB = pickle.load(open('1d_ML_NB.sav', 'rb'))\n",
    "DA = pickle.load(open('1d_ML_DA.sav', 'rb'))'''"
   ]
  },
  {
   "cell_type": "code",
   "execution_count": null,
   "metadata": {},
   "outputs": [],
   "source": []
  }
 ],
 "metadata": {
  "kernelspec": {
   "display_name": "Python 3",
   "language": "python",
   "name": "python3"
  },
  "language_info": {
   "codemirror_mode": {
    "name": "ipython",
    "version": 3
   },
   "file_extension": ".py",
   "mimetype": "text/x-python",
   "name": "python",
   "nbconvert_exporter": "python",
   "pygments_lexer": "ipython3",
   "version": "3.6.12"
  }
 },
 "nbformat": 4,
 "nbformat_minor": 4
}
