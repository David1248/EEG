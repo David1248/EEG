{
 "cells": [
  {
   "cell_type": "markdown",
   "metadata": {},
   "source": [
    "# MACHINE LEARNING _ SVM\n",
    "### Using (x-mean)/std normalization"
   ]
  },
  {
   "cell_type": "code",
   "execution_count": 1,
   "metadata": {},
   "outputs": [],
   "source": [
    "import numpy as np\n",
    "import matplotlib.pyplot as plt\n",
    "import pandas as pd\n",
    "import h5py\n",
    "from sklearn.model_selection import train_test_split\n",
    "from sklearn.utils import shuffle\n",
    "from sklearn import preprocessing, neighbors, naive_bayes, tree, svm, linear_model, discriminant_analysis\n",
    "from sklearn.ensemble import RandomForestClassifier\n",
    "from sklearn.metrics import confusion_matrix, classification_report\n",
    "import pickle\n",
    "#from xgboost import XGBRegressor"
   ]
  },
  {
   "cell_type": "code",
   "execution_count": 2,
   "metadata": {},
   "outputs": [],
   "source": [
    "# Reading the csv dataset\n",
    "eeg_raw = pd.read_csv(r'Dataset/one_to_five.csv')\n",
    "\n",
    "# dropping 'y' & 'Unnamed: 180' columns\n",
    "eeg_raw_drop_out = eeg_raw.drop(['y','Unnamed: 180' ], axis = 1)\n",
    "\n",
    "# dropping 'Unnamed: 0' column\n",
    "eeg_raw_drop_io = eeg_raw_drop_out.drop(['Unnamed: 0'], axis = 1)"
   ]
  },
  {
   "cell_type": "code",
   "execution_count": 3,
   "metadata": {},
   "outputs": [],
   "source": [
    "# Normalization\n",
    "mean = np.mean(eeg_raw_drop_io, axis = 0)\n",
    "std = np.std(eeg_raw_drop_io, axis = 0)\n",
    "norm_input = (eeg_raw_drop_io - mean)/std"
   ]
  },
  {
   "cell_type": "code",
   "execution_count": 4,
   "metadata": {},
   "outputs": [
    {
     "data": {
      "text/html": [
       "<div>\n",
       "<style scoped>\n",
       "    .dataframe tbody tr th:only-of-type {\n",
       "        vertical-align: middle;\n",
       "    }\n",
       "\n",
       "    .dataframe tbody tr th {\n",
       "        vertical-align: top;\n",
       "    }\n",
       "\n",
       "    .dataframe thead th {\n",
       "        text-align: right;\n",
       "    }\n",
       "</style>\n",
       "<table border=\"1\" class=\"dataframe\">\n",
       "  <thead>\n",
       "    <tr style=\"text-align: right;\">\n",
       "      <th></th>\n",
       "      <th>1</th>\n",
       "      <th>2</th>\n",
       "      <th>3</th>\n",
       "      <th>4</th>\n",
       "      <th>5</th>\n",
       "    </tr>\n",
       "  </thead>\n",
       "  <tbody>\n",
       "    <tr>\n",
       "      <th>0</th>\n",
       "      <td>0</td>\n",
       "      <td>0</td>\n",
       "      <td>0</td>\n",
       "      <td>1</td>\n",
       "      <td>0</td>\n",
       "    </tr>\n",
       "    <tr>\n",
       "      <th>1</th>\n",
       "      <td>1</td>\n",
       "      <td>0</td>\n",
       "      <td>0</td>\n",
       "      <td>0</td>\n",
       "      <td>0</td>\n",
       "    </tr>\n",
       "    <tr>\n",
       "      <th>2</th>\n",
       "      <td>0</td>\n",
       "      <td>0</td>\n",
       "      <td>0</td>\n",
       "      <td>0</td>\n",
       "      <td>1</td>\n",
       "    </tr>\n",
       "    <tr>\n",
       "      <th>3</th>\n",
       "      <td>0</td>\n",
       "      <td>0</td>\n",
       "      <td>0</td>\n",
       "      <td>0</td>\n",
       "      <td>1</td>\n",
       "    </tr>\n",
       "    <tr>\n",
       "      <th>4</th>\n",
       "      <td>0</td>\n",
       "      <td>0</td>\n",
       "      <td>0</td>\n",
       "      <td>0</td>\n",
       "      <td>1</td>\n",
       "    </tr>\n",
       "    <tr>\n",
       "      <th>...</th>\n",
       "      <td>...</td>\n",
       "      <td>...</td>\n",
       "      <td>...</td>\n",
       "      <td>...</td>\n",
       "      <td>...</td>\n",
       "    </tr>\n",
       "    <tr>\n",
       "      <th>11495</th>\n",
       "      <td>0</td>\n",
       "      <td>1</td>\n",
       "      <td>0</td>\n",
       "      <td>0</td>\n",
       "      <td>0</td>\n",
       "    </tr>\n",
       "    <tr>\n",
       "      <th>11496</th>\n",
       "      <td>1</td>\n",
       "      <td>0</td>\n",
       "      <td>0</td>\n",
       "      <td>0</td>\n",
       "      <td>0</td>\n",
       "    </tr>\n",
       "    <tr>\n",
       "      <th>11497</th>\n",
       "      <td>0</td>\n",
       "      <td>0</td>\n",
       "      <td>0</td>\n",
       "      <td>0</td>\n",
       "      <td>1</td>\n",
       "    </tr>\n",
       "    <tr>\n",
       "      <th>11498</th>\n",
       "      <td>0</td>\n",
       "      <td>0</td>\n",
       "      <td>1</td>\n",
       "      <td>0</td>\n",
       "      <td>0</td>\n",
       "    </tr>\n",
       "    <tr>\n",
       "      <th>11499</th>\n",
       "      <td>0</td>\n",
       "      <td>0</td>\n",
       "      <td>0</td>\n",
       "      <td>1</td>\n",
       "      <td>0</td>\n",
       "    </tr>\n",
       "  </tbody>\n",
       "</table>\n",
       "<p>11500 rows × 5 columns</p>\n",
       "</div>"
      ],
      "text/plain": [
       "       1  2  3  4  5\n",
       "0      0  0  0  1  0\n",
       "1      1  0  0  0  0\n",
       "2      0  0  0  0  1\n",
       "3      0  0  0  0  1\n",
       "4      0  0  0  0  1\n",
       "...   .. .. .. .. ..\n",
       "11495  0  1  0  0  0\n",
       "11496  1  0  0  0  0\n",
       "11497  0  0  0  0  1\n",
       "11498  0  0  1  0  0\n",
       "11499  0  0  0  1  0\n",
       "\n",
       "[11500 rows x 5 columns]"
      ]
     },
     "execution_count": 4,
     "metadata": {},
     "output_type": "execute_result"
    }
   ],
   "source": [
    "# Preparing Output\n",
    "\n",
    "# classes = ['Recording of seizure activites','Healthy Patient EEG from Tumour region','Healthy Patient EEG from Healthy region','Healthy Patient EEG with Eyes Close','Healthy Patient EEG with Eyes Open']\n",
    "raw_y = eeg_raw['y']\n",
    "targ = pd.DataFrame(list(zip(raw_y)),columns=['one_hot_y'])\n",
    "# Converting classes into one_hot encoded\n",
    "target = pd.get_dummies(targ.one_hot_y)\n",
    "# previewing the one_hot encoded result\n",
    "target"
   ]
  },
  {
   "cell_type": "code",
   "execution_count": 5,
   "metadata": {},
   "outputs": [],
   "source": [
    "# converting input and target into array\n",
    "norm_input_array = np.array(norm_input)\n",
    "target_array = np.array(target)\n",
    "raw_y_array = np.array(raw_y)"
   ]
  },
  {
   "cell_type": "code",
   "execution_count": 6,
   "metadata": {},
   "outputs": [
    {
     "name": "stdout",
     "output_type": "stream",
     "text": [
      "Input Shape:  (11500, 178)\n",
      "Output Shape:  (11500, 5)\n",
      "Output Shape_Y:  (11500,)\n",
      "Input Datatype:  float64\n",
      "Output Datatype:  uint8\n",
      "Output Datatype:  int64\n"
     ]
    }
   ],
   "source": [
    "print(\"Input Shape: \", norm_input_array.shape)\n",
    "print(\"Output Shape: \", target_array.shape)\n",
    "print(\"Output Shape_Y: \", raw_y_array.shape)\n",
    "print(\"Input Datatype: \", norm_input_array.dtype)\n",
    "print(\"Output Datatype: \", target_array.dtype)\n",
    "print(\"Output Datatype: \", raw_y_array.dtype)"
   ]
  },
  {
   "cell_type": "code",
   "execution_count": 7,
   "metadata": {},
   "outputs": [],
   "source": [
    "# Shuffle the dataset\n",
    "x, y, ry = shuffle(norm_input_array, target_array, raw_y_array)\n",
    "\n",
    "# Splitting x and y, X = 60%, Y = 60%\n",
    "X_train, x_test = train_test_split(x, test_size = 0.4, shuffle = False)\n",
    "Y_train, y_test = train_test_split(y, test_size = 0.4, shuffle = False)\n",
    "RY_train, ry_test = train_test_split(ry, test_size = 0.4, shuffle = False)\n",
    "\n",
    "# Splitting X_test and Y_test into 20% of the overall dataset  \n",
    "X_cv, X_test = train_test_split(x_test, test_size = 0.5, shuffle = False)\n",
    "Y_cv, Y_test = train_test_split(y_test, test_size = 0.5, shuffle = False)\n",
    "RY_cv, RY_test = train_test_split(ry_test, test_size = 0.5, shuffle = False)"
   ]
  },
  {
   "cell_type": "code",
   "execution_count": 8,
   "metadata": {},
   "outputs": [
    {
     "name": "stdout",
     "output_type": "stream",
     "text": [
      "X_train shape:  (6900, 178)\n",
      "Y_train shape:  (6900, 5)\n",
      "Raw_Y_train shape:  (6900,)\n",
      "X_cv shape:  (2300, 178)\n",
      "Y_cv shape:  (2300, 5)\n",
      "Raw_Y_cv shape:  (2300,)\n",
      "X_test shape:  (2300, 178)\n",
      "Y_test shape:  (2300, 5)\n",
      "Raw_Y_test shape:  (2300,)\n"
     ]
    }
   ],
   "source": [
    "print(\"X_train shape: \", X_train.shape)\n",
    "print(\"Y_train shape: \", Y_train.shape)\n",
    "print(\"Raw_Y_train shape: \", RY_train.shape)\n",
    "print(\"X_cv shape: \", X_cv.shape)\n",
    "print(\"Y_cv shape: \", Y_cv.shape)\n",
    "print(\"Raw_Y_cv shape: \", RY_cv.shape)\n",
    "print(\"X_test shape: \", X_test.shape)\n",
    "print(\"Y_test shape: \", Y_test.shape)\n",
    "print(\"Raw_Y_test shape: \", RY_test.shape)"
   ]
  },
  {
   "cell_type": "code",
   "execution_count": 9,
   "metadata": {},
   "outputs": [],
   "source": [
    "# Logistics Regression\n",
    "lr = linear_model.LogisticRegression()\n",
    "# K Nearest Neighbor\n",
    "KNN = neighbors.KNeighborsClassifier(n_neighbors=178)\n",
    "# Support Vector Machine (SVM) Guassian Kernel\n",
    "SVC = svm.SVC(kernel='rbf')\n",
    "# Support Vector Machine (SVM) Polynomial\n",
    "SVC2 = svm.SVC(kernel='poly', degree = 2)\n",
    "# Decision Tree\n",
    "Tree = tree.DecisionTreeClassifier()\n",
    "# Random Forest Tree\n",
    "RF = RandomForestClassifier(max_depth=10, random_state=0)\n",
    "# Naive Bayes\n",
    "NB = naive_bayes.GaussianNB()\n",
    "# Discriminant Analysis\n",
    "DA = discriminant_analysis.LinearDiscriminantAnalysis()"
   ]
  },
  {
   "cell_type": "code",
   "execution_count": 10,
   "metadata": {},
   "outputs": [
    {
     "data": {
      "text/plain": [
       "LinearDiscriminantAnalysis()"
      ]
     },
     "execution_count": 10,
     "metadata": {},
     "output_type": "execute_result"
    }
   ],
   "source": [
    "#Fitting the Model\n",
    "#lr.fit(X_train, RY_train)\n",
    "KNN.fit(X_train, RY_train)\n",
    "SVC.fit(X_train, RY_train)\n",
    "SVC2.fit(X_train, RY_train)\n",
    "Tree.fit(X_train, RY_train)\n",
    "RF.fit(X_train, RY_train)\n",
    "NB.fit(X_train, RY_train)\n",
    "DA.fit(X_train, RY_train)"
   ]
  },
  {
   "cell_type": "code",
   "execution_count": 11,
   "metadata": {},
   "outputs": [],
   "source": [
    "# Testing the Model\n",
    "#lr_acc = lr.score(X_cv, Y_cv)\n",
    "KNN_acc = KNN.score(X_cv, RY_cv)\n",
    "SVC_acc = SVC.score(X_cv, RY_cv)\n",
    "SVC2_acc = SVC2.score(X_cv, RY_cv)\n",
    "Tree_acc = Tree.score(X_cv, RY_cv)\n",
    "RF_acc = RF.score(X_cv, RY_cv)\n",
    "NB_acc = NB.score(X_cv, RY_cv)\n",
    "DA_acc = DA.score(X_cv, RY_cv)"
   ]
  },
  {
   "cell_type": "code",
   "execution_count": 12,
   "metadata": {},
   "outputs": [
    {
     "name": "stdout",
     "output_type": "stream",
     "text": [
      "K Nearest Neighbour Accuracy:  0.2582608695652174\n",
      "Support Vector Accuracy:  0.5504347826086956\n",
      "Support Vector (Polynomial) Accuracy:  0.46260869565217394\n",
      "Decision Tree Accuracy:  0.4752173913043478\n",
      "Random Forest Accuracy:  0.5347826086956522\n",
      "Naive Bayes Accuracy:  0.45\n",
      "Discriminant Analysis Accuracy:  0.26\n"
     ]
    }
   ],
   "source": [
    "# Printing Accuracy\n",
    "#print(\"Logisitics Regression Accuracy: \", lr_acc)\n",
    "print(\"K Nearest Neighbour Accuracy: \", KNN_acc)\n",
    "print(\"Support Vector Accuracy: \", SVC_acc)\n",
    "print(\"Support Vector (Polynomial) Accuracy: \", SVC2_acc)\n",
    "print(\"Decision Tree Accuracy: \", Tree_acc)\n",
    "print(\"Random Forest Accuracy: \", RF_acc)\n",
    "print(\"Naive Bayes Accuracy: \", NB_acc)\n",
    "print(\"Discriminant Analysis Accuracy: \", DA_acc)"
   ]
  },
  {
   "cell_type": "code",
   "execution_count": 13,
   "metadata": {},
   "outputs": [],
   "source": [
    "# Prediction\n",
    "#lr_y_pred = lr.predict(X_test)\n",
    "KNN_y_pred = KNN.predict(X_test)\n",
    "SVC_y_pred = SVC.predict(X_test)\n",
    "SVC2_y_pred = SVC2.predict(X_test)\n",
    "Tree_y_pred = Tree.predict(X_test)\n",
    "RF_y_pred = RF.predict(X_test)\n",
    "NB_y_pred = NB.predict(X_test)\n",
    "DA_y_pred = DA.predict(X_test)\n"
   ]
  },
  {
   "cell_type": "code",
   "execution_count": 14,
   "metadata": {},
   "outputs": [],
   "source": [
    "#print(confusion_matrix(RY_test, lr_y_pred))\n",
    "#print(confusion_matrix(RY_test, lr_y_pred, normalize = 'true'))\n",
    "#print(classification_report(RY_test, lr_y_pred))"
   ]
  },
  {
   "cell_type": "code",
   "execution_count": 15,
   "metadata": {},
   "outputs": [
    {
     "name": "stdout",
     "output_type": "stream",
     "text": [
      "[[ 72 106 168  77  34]\n",
      " [  0 189 248   0  16]\n",
      " [  0 136 278   0  38]\n",
      " [  0 114 193  40 132]\n",
      " [  0 133 272   0  54]]\n",
      "[[0.15754923 0.23194748 0.36761488 0.16849015 0.07439825]\n",
      " [0.         0.41721854 0.54746137 0.         0.03532009]\n",
      " [0.         0.30088496 0.61504425 0.         0.0840708 ]\n",
      " [0.         0.23799582 0.40292276 0.08350731 0.27557411]\n",
      " [0.         0.28976035 0.59259259 0.         0.11764706]]\n",
      "              precision    recall  f1-score   support\n",
      "\n",
      "           1       1.00      0.16      0.27       457\n",
      "           2       0.28      0.42      0.33       453\n",
      "           3       0.24      0.62      0.35       452\n",
      "           4       0.34      0.08      0.13       479\n",
      "           5       0.20      0.12      0.15       459\n",
      "\n",
      "    accuracy                           0.28      2300\n",
      "   macro avg       0.41      0.28      0.25      2300\n",
      "weighted avg       0.41      0.28      0.25      2300\n",
      "\n"
     ]
    }
   ],
   "source": [
    "print(confusion_matrix(RY_test, KNN_y_pred))\n",
    "print(confusion_matrix(RY_test, KNN_y_pred, normalize = 'true'))\n",
    "print(classification_report(RY_test, KNN_y_pred))"
   ]
  },
  {
   "cell_type": "code",
   "execution_count": 16,
   "metadata": {},
   "outputs": [
    {
     "name": "stdout",
     "output_type": "stream",
     "text": [
      "[[425  15   7  10   0]\n",
      " [ 27  81 103   3 239]\n",
      " [  4  41 130  12 265]\n",
      " [  0  54  42 218 165]\n",
      " [  0  18  22   8 411]]\n",
      "[[0.92997812 0.03282276 0.01531729 0.02188184 0.        ]\n",
      " [0.05960265 0.17880795 0.22737307 0.00662252 0.52759382]\n",
      " [0.00884956 0.09070796 0.28761062 0.02654867 0.58628319]\n",
      " [0.         0.11273486 0.08768267 0.45511482 0.34446764]\n",
      " [0.         0.03921569 0.04793028 0.01742919 0.89542484]]\n",
      "              precision    recall  f1-score   support\n",
      "\n",
      "           1       0.93      0.93      0.93       457\n",
      "           2       0.39      0.18      0.24       453\n",
      "           3       0.43      0.29      0.34       452\n",
      "           4       0.87      0.46      0.60       479\n",
      "           5       0.38      0.90      0.53       459\n",
      "\n",
      "    accuracy                           0.55      2300\n",
      "   macro avg       0.60      0.55      0.53      2300\n",
      "weighted avg       0.60      0.55      0.53      2300\n",
      "\n"
     ]
    }
   ],
   "source": [
    "print(confusion_matrix(RY_test, SVC_y_pred))\n",
    "print(confusion_matrix(RY_test, SVC_y_pred, normalize = 'true'))\n",
    "print(classification_report(RY_test, SVC_y_pred))"
   ]
  },
  {
   "cell_type": "code",
   "execution_count": 17,
   "metadata": {},
   "outputs": [
    {
     "name": "stdout",
     "output_type": "stream",
     "text": [
      "[[387  20  29   7  14]\n",
      " [ 12  23  63  12 343]\n",
      " [  2   3  73  17 357]\n",
      " [  0   0   7 145 327]\n",
      " [  0   0   1  26 432]]\n",
      "[[0.84682713 0.04376368 0.06345733 0.01531729 0.03063457]\n",
      " [0.02649007 0.05077263 0.13907285 0.02649007 0.75717439]\n",
      " [0.00442478 0.00663717 0.16150442 0.03761062 0.78982301]\n",
      " [0.         0.         0.01461378 0.30271399 0.68267223]\n",
      " [0.         0.         0.00217865 0.05664488 0.94117647]]\n",
      "              precision    recall  f1-score   support\n",
      "\n",
      "           1       0.97      0.85      0.90       457\n",
      "           2       0.50      0.05      0.09       453\n",
      "           3       0.42      0.16      0.23       452\n",
      "           4       0.70      0.30      0.42       479\n",
      "           5       0.29      0.94      0.45       459\n",
      "\n",
      "    accuracy                           0.46      2300\n",
      "   macro avg       0.58      0.46      0.42      2300\n",
      "weighted avg       0.58      0.46      0.42      2300\n",
      "\n"
     ]
    }
   ],
   "source": [
    "print(confusion_matrix(RY_test, SVC2_y_pred))\n",
    "print(confusion_matrix(RY_test, SVC2_y_pred, normalize = 'true'))\n",
    "print(classification_report(RY_test, SVC2_y_pred))"
   ]
  },
  {
   "cell_type": "code",
   "execution_count": 18,
   "metadata": {},
   "outputs": [
    {
     "name": "stdout",
     "output_type": "stream",
     "text": [
      "[[342  56  26  26   7]\n",
      " [ 24 160 135  49  85]\n",
      " [ 15 123 176  65  73]\n",
      " [ 17  70  76 203 113]\n",
      " [  3  75 106  94 181]]\n",
      "[[0.74835886 0.12253829 0.05689278 0.05689278 0.01531729]\n",
      " [0.05298013 0.35320088 0.29801325 0.10816777 0.18763797]\n",
      " [0.03318584 0.27212389 0.38938053 0.14380531 0.16150442]\n",
      " [0.03549061 0.14613779 0.15866388 0.42379958 0.23590814]\n",
      " [0.00653595 0.16339869 0.23093682 0.20479303 0.39433551]]\n",
      "              precision    recall  f1-score   support\n",
      "\n",
      "           1       0.85      0.75      0.80       457\n",
      "           2       0.33      0.35      0.34       453\n",
      "           3       0.34      0.39      0.36       452\n",
      "           4       0.46      0.42      0.44       479\n",
      "           5       0.39      0.39      0.39       459\n",
      "\n",
      "    accuracy                           0.46      2300\n",
      "   macro avg       0.48      0.46      0.47      2300\n",
      "weighted avg       0.48      0.46      0.47      2300\n",
      "\n"
     ]
    }
   ],
   "source": [
    "print(confusion_matrix(RY_test, Tree_y_pred))\n",
    "print(confusion_matrix(RY_test, Tree_y_pred, normalize = 'true'))\n",
    "print(classification_report(RY_test, Tree_y_pred))"
   ]
  },
  {
   "cell_type": "code",
   "execution_count": 19,
   "metadata": {},
   "outputs": [
    {
     "name": "stdout",
     "output_type": "stream",
     "text": [
      "[[431   5   4  15   2]\n",
      " [ 25  52  72  40 264]\n",
      " [ 17  25 111  36 263]\n",
      " [  5   9   8 287 170]\n",
      " [  0   4  40  48 367]]\n",
      "[[0.94310722 0.01094092 0.00875274 0.03282276 0.00437637]\n",
      " [0.05518764 0.11479029 0.1589404  0.08830022 0.58278146]\n",
      " [0.03761062 0.05530973 0.24557522 0.07964602 0.58185841]\n",
      " [0.01043841 0.01878914 0.01670146 0.59916493 0.35490605]\n",
      " [0.         0.0087146  0.08714597 0.10457516 0.79956427]]\n",
      "              precision    recall  f1-score   support\n",
      "\n",
      "           1       0.90      0.94      0.92       457\n",
      "           2       0.55      0.11      0.19       453\n",
      "           3       0.47      0.25      0.32       452\n",
      "           4       0.67      0.60      0.63       479\n",
      "           5       0.34      0.80      0.48       459\n",
      "\n",
      "    accuracy                           0.54      2300\n",
      "   macro avg       0.59      0.54      0.51      2300\n",
      "weighted avg       0.59      0.54      0.51      2300\n",
      "\n"
     ]
    }
   ],
   "source": [
    "print(confusion_matrix(RY_test, RF_y_pred))\n",
    "print(confusion_matrix(RY_test, RF_y_pred, normalize = 'true'))\n",
    "print(classification_report(RY_test, RF_y_pred))"
   ]
  },
  {
   "cell_type": "code",
   "execution_count": 20,
   "metadata": {},
   "outputs": [
    {
     "name": "stdout",
     "output_type": "stream",
     "text": [
      "[[373  80   2   2   0]\n",
      " [ 26  73  57  65 232]\n",
      " [  0  70  81  69 232]\n",
      " [  1 133  87 127 131]\n",
      " [  0  18  54  41 346]]\n",
      "[[0.81619256 0.1750547  0.00437637 0.00437637 0.        ]\n",
      " [0.05739514 0.1611479  0.12582781 0.14348786 0.51214128]\n",
      " [0.         0.15486726 0.17920354 0.15265487 0.51327434]\n",
      " [0.00208768 0.2776618  0.18162839 0.2651357  0.27348643]\n",
      " [0.         0.03921569 0.11764706 0.08932462 0.75381264]]\n",
      "              precision    recall  f1-score   support\n",
      "\n",
      "           1       0.93      0.82      0.87       457\n",
      "           2       0.20      0.16      0.18       453\n",
      "           3       0.29      0.18      0.22       452\n",
      "           4       0.42      0.27      0.32       479\n",
      "           5       0.37      0.75      0.49       459\n",
      "\n",
      "    accuracy                           0.43      2300\n",
      "   macro avg       0.44      0.44      0.42      2300\n",
      "weighted avg       0.44      0.43      0.42      2300\n",
      "\n"
     ]
    }
   ],
   "source": [
    "print(confusion_matrix(RY_test, NB_y_pred))\n",
    "print(confusion_matrix(RY_test, NB_y_pred, normalize = 'true'))\n",
    "print(classification_report(RY_test, NB_y_pred))"
   ]
  },
  {
   "cell_type": "code",
   "execution_count": 21,
   "metadata": {},
   "outputs": [
    {
     "name": "stdout",
     "output_type": "stream",
     "text": [
      "[[154  67  72  78  86]\n",
      " [ 38  98 111  96 110]\n",
      " [ 25  97 121 107 102]\n",
      " [ 62  90 101 136  90]\n",
      " [ 42  86  98 110 123]]\n",
      "[[0.33698031 0.14660832 0.15754923 0.17067834 0.18818381]\n",
      " [0.08388521 0.21633554 0.24503311 0.21192053 0.24282561]\n",
      " [0.05530973 0.21460177 0.26769912 0.23672566 0.22566372]\n",
      " [0.12943633 0.18789144 0.21085595 0.28392484 0.18789144]\n",
      " [0.09150327 0.18736383 0.21350763 0.23965142 0.26797386]]\n",
      "              precision    recall  f1-score   support\n",
      "\n",
      "           1       0.48      0.34      0.40       457\n",
      "           2       0.22      0.22      0.22       453\n",
      "           3       0.24      0.27      0.25       452\n",
      "           4       0.26      0.28      0.27       479\n",
      "           5       0.24      0.27      0.25       459\n",
      "\n",
      "    accuracy                           0.27      2300\n",
      "   macro avg       0.29      0.27      0.28      2300\n",
      "weighted avg       0.29      0.27      0.28      2300\n",
      "\n"
     ]
    }
   ],
   "source": [
    "print(confusion_matrix(RY_test, DA_y_pred))\n",
    "print(confusion_matrix(RY_test, DA_y_pred, normalize = 'true'))\n",
    "print(classification_report(RY_test, DA_y_pred))"
   ]
  },
  {
   "cell_type": "code",
   "execution_count": 26,
   "metadata": {},
   "outputs": [],
   "source": [
    "#Saving Model\n",
    "#pickle.dump(lr, open('1b_ML_lr.sav', 'wb'))\n",
    "pickle.dump(KNN, open('1b_ML_KNN.sav', 'wb'))\n",
    "pickle.dump(SVC, open('1b_ML_SVC.sav', 'wb'))\n",
    "pickle.dump(SVC2, open('1b_ML_SVC2.sav', 'wb'))\n",
    "pickle.dump(Tree, open('1b_ML_Tree.sav', 'wb'))\n",
    "pickle.dump(RF, open('1b_ML_RF.sav', 'wb'))\n",
    "pickle.dump(NB, open('1b_ML_NB.sav', 'wb'))\n",
    "pickle.dump(DA, open('1b_ML_DA.sav', 'wb'))"
   ]
  },
  {
   "cell_type": "code",
   "execution_count": 27,
   "metadata": {},
   "outputs": [],
   "source": [
    "#loading model\n",
    "'''#lr = pickle.load(open('1b_ML_lr.sav', 'rb'))\n",
    "KNN = pickle.load(open('1b_ML_KNN.sav', 'rb'))\n",
    "SVC = pickle.load(open('1b_ML_SVC.sav', 'rb'))\n",
    "SVC2 = pickle.load(open('1b_ML_SVC2.sav', 'rb'))\n",
    "Tree = pickle.load(open('1b_ML_Tree.sav', 'rb'))\n",
    "RF = pickle.load(open('1b_ML_RF.sav', 'rb'))\n",
    "NB = pickle.load(open('1b_ML_NB.sav', 'rb'))\n",
    "DA = pickle.load(open('1b_ML_DA.sav', 'rb'))'''"
   ]
  },
  {
   "cell_type": "code",
   "execution_count": null,
   "metadata": {},
   "outputs": [],
   "source": []
  }
 ],
 "metadata": {
  "kernelspec": {
   "display_name": "Python 3",
   "language": "python",
   "name": "python3"
  },
  "language_info": {
   "codemirror_mode": {
    "name": "ipython",
    "version": 3
   },
   "file_extension": ".py",
   "mimetype": "text/x-python",
   "name": "python",
   "nbconvert_exporter": "python",
   "pygments_lexer": "ipython3",
   "version": "3.7.7"
  }
 },
 "nbformat": 4,
 "nbformat_minor": 4
}
